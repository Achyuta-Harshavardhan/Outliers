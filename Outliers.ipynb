{
  "nbformat": 4,
  "nbformat_minor": 0,
  "metadata": {
    "colab": {
      "name": "Outliers.ipynb",
      "provenance": [],
      "mount_file_id": "1Ll4YDjwpKZlgtC6iwX2IM5X4UWSAlwzE",
      "authorship_tag": "ABX9TyMjiVnpKrHxghVkOg0CYNXS",
      "include_colab_link": true
    },
    "kernelspec": {
      "name": "python3",
      "display_name": "Python 3"
    }
  },
  "cells": [
    {
      "cell_type": "markdown",
      "metadata": {
        "id": "view-in-github",
        "colab_type": "text"
      },
      "source": [
        "<a href=\"https://colab.research.google.com/github/Achyuta-Harshavardhan/Outliers/blob/main/Outliers.ipynb\" target=\"_parent\"><img src=\"https://colab.research.google.com/assets/colab-badge.svg\" alt=\"Open In Colab\"/></a>"
      ]
    },
    {
      "cell_type": "markdown",
      "metadata": {
        "id": "OeFoiGMYoD0F"
      },
      "source": [
        "1. Naivye Bayes Classifier (Not Sensitive)\n",
        "2. SVM (Not Sensitive)\n",
        "3. **Linear Regression (Sensitive)**\n",
        "4. **Logistic Regression (Sensitive)**\n",
        "5. Decision Tree Regressor or Classifier (Not Sensitive)\n",
        "6. Ensemble(RF,XGboost,GB (Not Sensitive)\n",
        "7. KNN (Not Sensitive)\n",
        "8. **Kmeans (Sensitive)**\n",
        "9. **Hierarichal (Sensitive)**\n",
        "10. **PCA (Sensitive)**\n",
        "11. **Neural Networks (Sensitive)**"
      ]
    },
    {
      "cell_type": "code",
      "metadata": {
        "id": "OKHE3h7FLdg2"
      },
      "source": [
        "# Import all the necessary libraries\n",
        "import pandas as pd\n",
        "import seaborn as sns\n",
        "from sklearn.model_selection import train_test_split\n",
        "from sklearn.linear_model import LogisticRegression\n",
        "from sklearn.metrics import accuracy_score,roc_auc_score"
      ],
      "execution_count": 1,
      "outputs": []
    },
    {
      "cell_type": "code",
      "metadata": {
        "colab": {
          "base_uri": "https://localhost:8080/",
          "height": 496
        },
        "id": "1XVqoMpPsbpH",
        "outputId": "a1407c4a-c37c-4728-f1bd-0beb3f5c8cbc"
      },
      "source": [
        "# Read the data from CSV file\n",
        "df = pd.read_csv(\"/content/drive/MyDrive/Machine Learning/outliers/titanic.csv\")\n",
        "df.head()"
      ],
      "execution_count": 2,
      "outputs": [
        {
          "output_type": "execute_result",
          "data": {
            "text/html": [
              "<div>\n",
              "<style scoped>\n",
              "    .dataframe tbody tr th:only-of-type {\n",
              "        vertical-align: middle;\n",
              "    }\n",
              "\n",
              "    .dataframe tbody tr th {\n",
              "        vertical-align: top;\n",
              "    }\n",
              "\n",
              "    .dataframe thead th {\n",
              "        text-align: right;\n",
              "    }\n",
              "</style>\n",
              "<table border=\"1\" class=\"dataframe\">\n",
              "  <thead>\n",
              "    <tr style=\"text-align: right;\">\n",
              "      <th></th>\n",
              "      <th>PassengerId</th>\n",
              "      <th>Survived</th>\n",
              "      <th>Pclass</th>\n",
              "      <th>Name</th>\n",
              "      <th>Sex</th>\n",
              "      <th>Age</th>\n",
              "      <th>SibSp</th>\n",
              "      <th>Parch</th>\n",
              "      <th>Ticket</th>\n",
              "      <th>Fare</th>\n",
              "      <th>Cabin</th>\n",
              "      <th>Embarked</th>\n",
              "    </tr>\n",
              "  </thead>\n",
              "  <tbody>\n",
              "    <tr>\n",
              "      <th>0</th>\n",
              "      <td>1</td>\n",
              "      <td>0</td>\n",
              "      <td>3</td>\n",
              "      <td>Braund, Mr. Owen Harris</td>\n",
              "      <td>male</td>\n",
              "      <td>22.0</td>\n",
              "      <td>1</td>\n",
              "      <td>0</td>\n",
              "      <td>A/5 21171</td>\n",
              "      <td>7.2500</td>\n",
              "      <td>NaN</td>\n",
              "      <td>S</td>\n",
              "    </tr>\n",
              "    <tr>\n",
              "      <th>1</th>\n",
              "      <td>2</td>\n",
              "      <td>1</td>\n",
              "      <td>1</td>\n",
              "      <td>Cumings, Mrs. John Bradley (Florence Briggs Th...</td>\n",
              "      <td>female</td>\n",
              "      <td>38.0</td>\n",
              "      <td>1</td>\n",
              "      <td>0</td>\n",
              "      <td>PC 17599</td>\n",
              "      <td>71.2833</td>\n",
              "      <td>C85</td>\n",
              "      <td>C</td>\n",
              "    </tr>\n",
              "    <tr>\n",
              "      <th>2</th>\n",
              "      <td>3</td>\n",
              "      <td>1</td>\n",
              "      <td>3</td>\n",
              "      <td>Heikkinen, Miss. Laina</td>\n",
              "      <td>female</td>\n",
              "      <td>26.0</td>\n",
              "      <td>0</td>\n",
              "      <td>0</td>\n",
              "      <td>STON/O2. 3101282</td>\n",
              "      <td>7.9250</td>\n",
              "      <td>NaN</td>\n",
              "      <td>S</td>\n",
              "    </tr>\n",
              "    <tr>\n",
              "      <th>3</th>\n",
              "      <td>4</td>\n",
              "      <td>1</td>\n",
              "      <td>1</td>\n",
              "      <td>Futrelle, Mrs. Jacques Heath (Lily May Peel)</td>\n",
              "      <td>female</td>\n",
              "      <td>35.0</td>\n",
              "      <td>1</td>\n",
              "      <td>0</td>\n",
              "      <td>113803</td>\n",
              "      <td>53.1000</td>\n",
              "      <td>C123</td>\n",
              "      <td>S</td>\n",
              "    </tr>\n",
              "    <tr>\n",
              "      <th>4</th>\n",
              "      <td>5</td>\n",
              "      <td>0</td>\n",
              "      <td>3</td>\n",
              "      <td>Allen, Mr. William Henry</td>\n",
              "      <td>male</td>\n",
              "      <td>35.0</td>\n",
              "      <td>0</td>\n",
              "      <td>0</td>\n",
              "      <td>373450</td>\n",
              "      <td>8.0500</td>\n",
              "      <td>NaN</td>\n",
              "      <td>S</td>\n",
              "    </tr>\n",
              "  </tbody>\n",
              "</table>\n",
              "</div>"
            ],
            "text/plain": [
              "   PassengerId  Survived  Pclass  ...     Fare Cabin  Embarked\n",
              "0            1         0       3  ...   7.2500   NaN         S\n",
              "1            2         1       1  ...  71.2833   C85         C\n",
              "2            3         1       3  ...   7.9250   NaN         S\n",
              "3            4         1       1  ...  53.1000  C123         S\n",
              "4            5         0       3  ...   8.0500   NaN         S\n",
              "\n",
              "[5 rows x 12 columns]"
            ]
          },
          "metadata": {
            "tags": []
          },
          "execution_count": 2
        }
      ]
    },
    {
      "cell_type": "code",
      "metadata": {
        "colab": {
          "base_uri": "https://localhost:8080/",
          "height": 312
        },
        "id": "IR-Dom7Fs_P4",
        "outputId": "d4bcb7b7-7937-4769-e60f-ab233d9cff97"
      },
      "source": [
        "figure=df.Age.hist(bins=50)\n",
        "figure.set_title('Age')\n",
        "figure.set_xlabel('Age')\n",
        "figure.set_ylabel('No of passenger')"
      ],
      "execution_count": 3,
      "outputs": [
        {
          "output_type": "execute_result",
          "data": {
            "text/plain": [
              "Text(0, 0.5, 'No of passenger')"
            ]
          },
          "metadata": {
            "tags": []
          },
          "execution_count": 3
        },
        {
          "output_type": "display_data",
          "data": {
            "image/png": "[encoded data removed]",
            "text/plain": [
              "<Figure size 432x288 with 1 Axes>"
            ]
          },
          "metadata": {
            "tags": [],
            "needs_background": "light"
          }
        }
      ]
    },
    {
      "cell_type": "code",
      "metadata": {
        "colab": {
          "base_uri": "https://localhost:8080/",
          "height": 265
        },
        "id": "Sfe3WXCNwCg7",
        "outputId": "54be2594-20a5-412b-8bc1-ed967a7e3630"
      },
      "source": [
        "figure = df.boxplot(column=\"Age\")"
      ],
      "execution_count": 4,
      "outputs": [
        {
          "output_type": "display_data",
          "data": {
            "image/png": "[encoded data removed]",
            "text/plain": [
              "<Figure size 432x288 with 1 Axes>"
            ]
          },
          "metadata": {
            "tags": [],
            "needs_background": "light"
          }
        }
      ]
    },
    {
      "cell_type": "markdown",
      "metadata": {
        "id": "2XM4UA3lxoBM"
      },
      "source": [
        "#If the feature is normally distributed then we need to calculate the upper boundary and the lower boundary which differentiate the outliers"
      ]
    },
    {
      "cell_type": "code",
      "metadata": {
        "colab": {
          "base_uri": "https://localhost:8080/"
        },
        "id": "s881Hy88wnuO",
        "outputId": "caf1f157-5989-4020-f4bb-84214efb263e"
      },
      "source": [
        "upper_boundary = df['Age'].mean() + 3* df['Age'].std()\n",
        "lower_boundary = df['Age'].mean() - 3* df['Age'].std()\n",
        "\n",
        "print(\"Mean: \",df['Age'].mean())\n",
        "print('Lower Boundary: ',lower_boundary)\n",
        "print('Upper Boundary: ',upper_boundary)"
      ],
      "execution_count": 5,
      "outputs": [
        {
          "output_type": "stream",
          "text": [
            "Mean:  29.69911764705882\n",
            "Lower Boundary:  -13.88037434994331\n",
            "Upper Boundary:  73.27860964406095\n"
          ],
          "name": "stdout"
        }
      ]
    },
    {
      "cell_type": "markdown",
      "metadata": {
        "id": "0pTX9ool1GNr"
      },
      "source": [
        "# If the feature is skewed"
      ]
    },
    {
      "cell_type": "code",
      "metadata": {
        "colab": {
          "base_uri": "https://localhost:8080/",
          "height": 312
        },
        "id": "f8huNuZ6ygNT",
        "outputId": "65fd8a9f-e2c5-4f18-bd90-3c9174e4b75c"
      },
      "source": [
        "figure=df.Fare.hist(bins=50)\n",
        "figure.set_title('Fare')\n",
        "figure.set_xlabel('Fare')\n",
        "figure.set_ylabel('No of passenger')"
      ],
      "execution_count": 6,
      "outputs": [
        {
          "output_type": "execute_result",
          "data": {
            "text/plain": [
              "Text(0, 0.5, 'No of passenger')"
            ]
          },
          "metadata": {
            "tags": []
          },
          "execution_count": 6
        },
        {
          "output_type": "display_data",
          "data": {
            "image/png": "[encoded data removed]",
            "text/plain": [
              "<Figure size 432x288 with 1 Axes>"
            ]
          },
          "metadata": {
            "tags": [],
            "needs_background": "light"
          }
        }
      ]
    },
    {
      "cell_type": "code",
      "metadata": {
        "colab": {
          "base_uri": "https://localhost:8080/",
          "height": 282
        },
        "id": "4dK7Rh6zy4EE",
        "outputId": "5c0b852b-d6bc-4022-ed1f-049d4de6392b"
      },
      "source": [
        "df.boxplot(column=\"Fare\")"
      ],
      "execution_count": 7,
      "outputs": [
        {
          "output_type": "execute_result",
          "data": {
            "text/plain": [
              "<matplotlib.axes._subplots.AxesSubplot at 0x7f0ae97882b0>"
            ]
          },
          "metadata": {
            "tags": []
          },
          "execution_count": 7
        },
        {
          "output_type": "display_data",
          "data": {
            "image/png": "[encoded data removed]",
            "text/plain": [
              "<Figure size 432x288 with 1 Axes>"
            ]
          },
          "metadata": {
            "tags": [],
            "needs_background": "light"
          }
        }
      ]
    },
    {
      "cell_type": "code",
      "metadata": {
        "colab": {
          "base_uri": "https://localhost:8080/"
        },
        "id": "4Th_Ewg-1Tiq",
        "outputId": "18978be1-b671-42f7-9e85-d3e707f5e149"
      },
      "source": [
        "IQR = df.Fare.quantile(0.75)-df.Fare.quantile(0.25)\n",
        "print(\"IQR: \",IQR)"
      ],
      "execution_count": 8,
      "outputs": [
        {
          "output_type": "stream",
          "text": [
            "IQR:  23.0896\n"
          ],
          "name": "stdout"
        }
      ]
    },
    {
      "cell_type": "code",
      "metadata": {
        "colab": {
          "base_uri": "https://localhost:8080/"
        },
        "id": "vxMBGtU41oLc",
        "outputId": "4ee2b851-ba2e-4dd0-f051-9a78abd2d1a9"
      },
      "source": [
        "# In case of Skewed we need to consider extereme outliers that is multiply by 3\n",
        "lower_bridge = df.Fare.quantile(0.25)-(IQR*3)\n",
        "upper_bridge = df.Fare.quantile(0.75)+(IQR*3)\n",
        "print('Lower Bridge: ',lower_bridge)\n",
        "print('Upper Bridge: ',upper_bridge)"
      ],
      "execution_count": 9,
      "outputs": [
        {
          "output_type": "stream",
          "text": [
            "Lower Bridge:  -61.358399999999996\n",
            "Upper Bridge:  100.2688\n"
          ],
          "name": "stdout"
        }
      ]
    },
    {
      "cell_type": "code",
      "metadata": {
        "id": "wFw8u13p1zTS"
      },
      "source": [
        "df1 = df.copy()"
      ],
      "execution_count": 10,
      "outputs": []
    },
    {
      "cell_type": "code",
      "metadata": {
        "id": "ajRnOjOh2_ab"
      },
      "source": [
        "df1.loc[df1['Age']>=73,'Age'] = 73"
      ],
      "execution_count": 11,
      "outputs": []
    },
    {
      "cell_type": "code",
      "metadata": {
        "id": "v-YsVb8_3HkG"
      },
      "source": [
        "df1.loc[df1['Fare']>=100,'Fare']= 100"
      ],
      "execution_count": 12,
      "outputs": []
    },
    {
      "cell_type": "code",
      "metadata": {
        "id": "z9QEjDqu351x"
      },
      "source": [
        "x = df1[['Age','Fare']].fillna(0)\n",
        "y = df1['Survived']"
      ],
      "execution_count": 13,
      "outputs": []
    },
    {
      "cell_type": "code",
      "metadata": {
        "id": "mvVpLppE3Qz2"
      },
      "source": [
        "x_train,x_test,y_train,y_test = train_test_split(x,y,test_size=0.3)"
      ],
      "execution_count": 14,
      "outputs": []
    },
    {
      "cell_type": "code",
      "metadata": {
        "id": "m6CVv_Uh4I55"
      },
      "source": [
        "classifier = LogisticRegression()\n",
        "classifier.fit(x_train,y_train)\n",
        "pred=classifier.predict(x_test)"
      ],
      "execution_count": 15,
      "outputs": []
    },
    {
      "cell_type": "code",
      "metadata": {
        "colab": {
          "base_uri": "https://localhost:8080/"
        },
        "id": "qFMwkvIa4Z8e",
        "outputId": "6963d1c6-1b07-4db7-a03e-8e1ac414c227"
      },
      "source": [
        "print(accuracy_score(y_test,pred))"
      ],
      "execution_count": 16,
      "outputs": [
        {
          "output_type": "stream",
          "text": [
            "0.6492537313432836\n"
          ],
          "name": "stdout"
        }
      ]
    }
  ]
}